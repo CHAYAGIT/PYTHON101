{
  "nbformat": 4,
  "nbformat_minor": 0,
  "metadata": {
    "colab": {
      "name": "Chapter0-Python.ipynb",
      "provenance": [],
      "collapsed_sections": [],
      "authorship_tag": "ABX9TyODIIvTUsQF1LO40X9PLSVC",
      "include_colab_link": true
    },
    "kernelspec": {
      "name": "python3",
      "display_name": "Python 3"
    }
  },
  "cells": [
    {
      "cell_type": "markdown",
      "metadata": {
        "id": "view-in-github",
        "colab_type": "text"
      },
      "source": [
        "<a href=\"https://colab.research.google.com/github/CHAYAGIT/PYTHON101/blob/master/Chapter0_Python.ipynb\" target=\"_parent\"><img src=\"https://colab.research.google.com/assets/colab-badge.svg\" alt=\"Open In Colab\"/></a>"
      ]
    },
    {
      "cell_type": "code",
      "metadata": {
        "colab": {
          "base_uri": "https://localhost:8080/"
        },
        "id": "Ao94QYrdVy9P",
        "outputId": "9d07c070-d12c-4e7d-86b6-32be71abc96b"
      },
      "source": [
        "print('Hello World')"
      ],
      "execution_count": null,
      "outputs": [
        {
          "output_type": "stream",
          "text": [
            "Hello World\n"
          ],
          "name": "stdout"
        }
      ]
    },
    {
      "cell_type": "markdown",
      "metadata": {
        "id": "AOrNbvIRXPiQ"
      },
      "source": [
        "String Variable"
      ]
    },
    {
      "cell_type": "code",
      "metadata": {
        "colab": {
          "base_uri": "https://localhost:8080/"
        },
        "id": "s7oobz0yXFu4",
        "outputId": "da9edbfd-ff33-4006-c706-d60e117e882d"
      },
      "source": [
        "s='Hello World'\r\n",
        "s1 = \"Hello world\"\r\n",
        "s2 = \"\"\"I am a student\"\"\"\r\n",
        "print(s)\r\n",
        "print(s2)\r\n",
        "print(s1)"
      ],
      "execution_count": 2,
      "outputs": [
        {
          "output_type": "stream",
          "text": [
            "Hello World\n",
            "I am a student\n",
            "Hello world\n"
          ],
          "name": "stdout"
        }
      ]
    },
    {
      "cell_type": "code",
      "metadata": {
        "colab": {
          "base_uri": "https://localhost:8080/"
        },
        "id": "pTAgi44FX5yw",
        "outputId": "6260cad8-159a-42ef-e0c7-50e1dea86969"
      },
      "source": [
        "print(s[1],s[2])"
      ],
      "execution_count": 3,
      "outputs": [
        {
          "output_type": "stream",
          "text": [
            "e l\n"
          ],
          "name": "stdout"
        }
      ]
    },
    {
      "cell_type": "code",
      "metadata": {
        "colab": {
          "base_uri": "https://localhost:8080/"
        },
        "id": "kafhiQnQYIFn",
        "outputId": "1c7a74aa-c5ec-4791-a4cb-ef0798f6ba94"
      },
      "source": [
        "print(s[1:5])"
      ],
      "execution_count": 4,
      "outputs": [
        {
          "output_type": "stream",
          "text": [
            "ello\n"
          ],
          "name": "stdout"
        }
      ]
    }
  ]
}